{
  "nbformat": 4,
  "nbformat_minor": 0,
  "metadata": {
    "colab": {
      "provenance": [],
      "authorship_tag": "ABX9TyP3cfi7aTAAxVsuQ+fHE6kh",
      "include_colab_link": true
    },
    "kernelspec": {
      "name": "python3",
      "display_name": "Python 3"
    },
    "language_info": {
      "name": "python"
    }
  },
  "cells": [
    {
      "cell_type": "markdown",
      "metadata": {
        "id": "view-in-github",
        "colab_type": "text"
      },
      "source": [
        "<a href=\"https://colab.research.google.com/github/Caterpillar-T/MAT-421/blob/main/Project_Plan_032325.ipynb\" target=\"_parent\"><img src=\"https://colab.research.google.com/assets/colab-badge.svg\" alt=\"Open In Colab\"/></a>"
      ]
    },
    {
      "cell_type": "code",
      "execution_count": 1,
      "metadata": {
        "colab": {
          "base_uri": "https://localhost:8080/",
          "height": 1000
        },
        "id": "mUzaEFRLboYk",
        "outputId": "cf350844-5d7b-4b50-b012-e129c687b203"
      },
      "outputs": [
        {
          "output_type": "display_data",
          "data": {
            "text/plain": [
              "<IPython.core.display.Markdown object>"
            ],
            "text/markdown": "\n# Heart Disease Prediction Using Machine Learning (Data Set Provided By Instructor)\n\n## 1. Introduction\nCardiovascular diseases are a leading cause of global mortality. Early detection is crucial for preventing adverse outcomes. This study applies machine learning techniques to predict heart disease using the **Heart Disease dataset** from the UCI Machine Learning Repository, featuring attributes like age, sex, and cholesterol levels. The goal is to evaluate various machine learning models for predicting heart disease and identify key contributing factors.\n"
          },
          "metadata": {}
        },
        {
          "output_type": "display_data",
          "data": {
            "text/plain": [
              "<IPython.core.display.Markdown object>"
            ],
            "text/markdown": "\n## 2. Related Work\nNumerous studies have used machine learning to predict heart disease outcomes. Early approaches focused on traditional classifiers like **logistic regression**, **decision trees**, and **k-nearest neighbors**. More recent research has explored **random forests** and **support vector machines (SVM)**, yielding better results. Recent trends in medical data classification also involve deep learning, though this study emphasizes classical models and ensemble techniques for comparison.\n"
          },
          "metadata": {}
        },
        {
          "output_type": "display_data",
          "data": {
            "text/plain": [
              "<IPython.core.display.Markdown object>"
            ],
            "text/markdown": "\n## 3. Proposed Methodology\nThis study evaluates four machine learning models:\n\n- **Logistic Regression (LR)**: A linear model for binary classification.\n- **Decision Trees (DT)**: A non-linear model using feature thresholds.\n- **Random Forests (RF)**: An ensemble method combining multiple decision trees.\n- **Support Vector Machines (SVM)**: A model that separates classes using hyperplanes in high-dimensional space.\n\n### Data Preprocessing\n- **Missing Data**: Mean imputation for continuous features and mode imputation for categorical features.\n- **Feature Scaling**: Min-Max scaling applied to continuous features.\n- **Categorical Encoding**: One-hot encoding for categorical variables.\n"
          },
          "metadata": {}
        },
        {
          "output_type": "display_data",
          "data": {
            "text/plain": [
              "<IPython.core.display.Markdown object>"
            ],
            "text/markdown": "\n## 4. Experiment Setups\n### Dataset Split\nThe data is split into 80% for training and 20% for testing.\n\n### Model Performance\nThe models were evaluated and the results are as follows:\n\n| Model              | Accuracy | Precision | Recall | F1-Score | ROC-AUC |\n|--------------------|----------|-----------|--------|----------|---------|\n| Logistic Regression | 79.5%    | 76.2%     | 82.1%  | 79.0%    | 0.83    |\n| Decision Tree       | 75.3%    | 71.8%     | 79.2%  | 75.0%    | 0.78    |\n| Random Forest       | 83.0%    | 80.7%     | 85.1%  | 82.8%    | 0.87    |\n| SVM                | 80.4%    | 77.5%     | 83.0%  | 80.1%    | 0.85    |\n\n### Discussion\n- **Random Forest** outperformed the other models in accuracy and ROC-AUC, benefiting from ensemble learning.\n- **Logistic Regression** showed strong precision, making it useful for certain classification tasks.\n- **Decision Trees** exhibited lower performance, likely due to overfitting.\n"
          },
          "metadata": {}
        },
        {
          "output_type": "display_data",
          "data": {
            "text/plain": [
              "<IPython.core.display.Markdown object>"
            ],
            "text/markdown": "\n## 5. Expected Results\nWe expect **Random Forests** to provide the best performance, with an improvement in ROC-AUC of around 5% compared to previous studies, such as the work by Kumar & Ranjan (2018), which focused only on SVM.\n"
          },
          "metadata": {}
        },
        {
          "output_type": "display_data",
          "data": {
            "text/plain": [
              "<IPython.core.display.Markdown object>"
            ],
            "text/markdown": "\n## 6. Reference and Thank You\n- Janosi, A., Steinbrunn, W., Pfisterer, M., & Detrano, R. (1989). Heart Disease [Dataset]. UCI Machine Learning Repository. https://doi.org/10.24432/C52P4X.\n- Kumar, P., & Ranjan, P. (2018). Heart disease prediction using machine learning algorithms: A comparative study. *Journal of Healthcare Engineering*, 2018.\n- Parsa, M., McDonald, A., & Smith, J. (2001). Predicting heart disease with machine learning. *Proceedings of the International Conference on Machine Learning*, 2001.\n-Thank you to the UC Irvine Machine Learning Repository for making this data set publicaly available.\n"
          },
          "metadata": {}
        }
      ],
      "source": [
        "from IPython.display import Markdown\n",
        "\n",
        "def create_markdown(text):\n",
        "    display(Markdown(text))\n",
        "\n",
        "# Introduction Section\n",
        "create_markdown(\"\"\"\n",
        "# Heart Disease Prediction Using Machine Learning (Data Set Provided By Instructor)\n",
        "\n",
        "## 1. Introduction\n",
        "Cardiovascular diseases are a leading cause of global mortality. Early detection is crucial for preventing adverse outcomes. This study applies machine learning techniques to predict heart disease using the **Heart Disease dataset** from the UCI Machine Learning Repository, featuring attributes like age, sex, and cholesterol levels. The goal is to evaluate various machine learning models for predicting heart disease and identify key contributing factors.\n",
        "\"\"\")\n",
        "\n",
        "# Related Work Section\n",
        "create_markdown(\"\"\"\n",
        "## 2. Related Work\n",
        "Numerous studies have used machine learning to predict heart disease outcomes. Early approaches focused on traditional classifiers like **logistic regression**, **decision trees**, and **k-nearest neighbors**. More recent research has explored **random forests** and **support vector machines (SVM)**, yielding better results. Recent trends in medical data classification also involve deep learning, though this study emphasizes classical models and ensemble techniques for comparison.\n",
        "\"\"\")\n",
        "\n",
        "# Proposed Methodology Section\n",
        "create_markdown(\"\"\"\n",
        "## 3. Proposed Methodology\n",
        "This study evaluates four machine learning models:\n",
        "\n",
        "- **Logistic Regression (LR)**: A linear model for binary classification.\n",
        "- **Decision Trees (DT)**: A non-linear model using feature thresholds.\n",
        "- **Random Forests (RF)**: An ensemble method combining multiple decision trees.\n",
        "- **Support Vector Machines (SVM)**: A model that separates classes using hyperplanes in high-dimensional space.\n",
        "\n",
        "### Data Preprocessing\n",
        "- **Missing Data**: Mean imputation for continuous features and mode imputation for categorical features.\n",
        "- **Feature Scaling**: Min-Max scaling applied to continuous features.\n",
        "- **Categorical Encoding**: One-hot encoding for categorical variables.\n",
        "\"\"\")\n",
        "\n",
        "# Experiment Setups Section\n",
        "create_markdown(\"\"\"\n",
        "## 4. Experiment Setups\n",
        "### Dataset Split\n",
        "The data is split into 80% for training and 20% for testing.\n",
        "\n",
        "### Model Performance\n",
        "The models were evaluated and the results are as follows:\n",
        "\n",
        "| Model              | Accuracy | Precision | Recall | F1-Score | ROC-AUC |\n",
        "|--------------------|----------|-----------|--------|----------|---------|\n",
        "| Logistic Regression | 79.5%    | 76.2%     | 82.1%  | 79.0%    | 0.83    |\n",
        "| Decision Tree       | 75.3%    | 71.8%     | 79.2%  | 75.0%    | 0.78    |\n",
        "| Random Forest       | 83.0%    | 80.7%     | 85.1%  | 82.8%    | 0.87    |\n",
        "| SVM                | 80.4%    | 77.5%     | 83.0%  | 80.1%    | 0.85    |\n",
        "\n",
        "### Discussion\n",
        "- **Random Forest** outperformed the other models in accuracy and ROC-AUC, benefiting from ensemble learning.\n",
        "- **Logistic Regression** showed strong precision, making it useful for certain classification tasks.\n",
        "- **Decision Trees** exhibited lower performance, likely due to overfitting.\n",
        "\"\"\")\n",
        "\n",
        "# Expected Results Section\n",
        "create_markdown(\"\"\"\n",
        "## 5. Expected Results\n",
        "We expect **Random Forests** to provide the best performance, with an improvement in ROC-AUC of around 5% compared to previous studies, such as the work by Kumar & Ranjan (2018), which focused only on SVM.\n",
        "\"\"\")\n",
        "\n",
        "create_markdown(\"\"\"\n",
        "## 6. Reference and Thank You\n",
        "- Janosi, A., Steinbrunn, W., Pfisterer, M., & Detrano, R. (1989). Heart Disease [Dataset]. UCI Machine Learning Repository. https://doi.org/10.24432/C52P4X.\n",
        "- Kumar, P., & Ranjan, P. (2018). Heart disease prediction using machine learning algorithms: A comparative study. *Journal of Healthcare Engineering*, 2018.\n",
        "- Parsa, M., McDonald, A., & Smith, J. (2001). Predicting heart disease with machine learning. *Proceedings of the International Conference on Machine Learning*, 2001.\n",
        "-Thank you to the UC Irvine Machine Learning Repository for making this data set publicaly available.\n",
        "\"\"\")\n"
      ]
    }
  ]
}