{
  "nbformat": 4,
  "nbformat_minor": 0,
  "metadata": {
    "colab": {
      "provenance": [],
      "authorship_tag": "ABX9TyO2Cn0FzbEEwZ3NDqoqS46/",
      "include_colab_link": true
    },
    "kernelspec": {
      "name": "python3",
      "display_name": "Python 3"
    },
    "language_info": {
      "name": "python"
    }
  },
  "cells": [
    {
      "cell_type": "markdown",
      "metadata": {
        "id": "view-in-github",
        "colab_type": "text"
      },
      "source": [
        "<a href=\"https://colab.research.google.com/github/Caterpillar-T/MAT-421/blob/main/Homework_5_MAT_421.ipynb\" target=\"_parent\"><img src=\"https://colab.research.google.com/assets/colab-badge.svg\" alt=\"Open In Colab\"/></a>"
      ]
    },
    {
      "cell_type": "markdown",
      "source": [
        "Homework 5 MAT 421"
      ],
      "metadata": {
        "id": "NUu8hy43bzON"
      }
    },
    {
      "cell_type": "markdown",
      "source": [
        "Kyle Tucker"
      ],
      "metadata": {
        "id": "eU_uj2Ybbzn6"
      }
    },
    {
      "cell_type": "markdown",
      "source": [
        "**1.1 Introduction**"
      ],
      "metadata": {
        "id": "MxvMITrob2ss"
      }
    },
    {
      "cell_type": "markdown",
      "source": [
        "Linear algebra is a widely used field of mathematics. And plays a large role in data science, machine learning, and is a key component to solving data science problems. The things that were tedious by hand in linear algebra such as  matrix decomposition, orthogonality, and eigenvalues can be performed quickly and accurately and program and are also how many systems run."
      ],
      "metadata": {
        "id": "0_T2CmbBcFnQ"
      }
    },
    {
      "cell_type": "markdown",
      "source": [
        "**1.2.1 Elements of Linear Algebra: Linear Combinations**"
      ],
      "metadata": {
        "id": "SKWPkyOccs_u"
      }
    },
    {
      "cell_type": "markdown",
      "source": [
        "Linear combinations come about by multiplying your vectors by a constant and then adding them to get your final result. The result being called a linear subspace."
      ],
      "metadata": {
        "id": "CUy8RmD4dYLH"
      }
    },
    {
      "cell_type": "markdown",
      "source": [
        "This notion of linear subspace can be defined as for all $u_1,u_2 \\in U$ and $\\alpha \\in \\mathbb{R}$, $u_1+u_2 \\in U$ and $\\alpha u_1 \\in U$ where $U \\subseteq V$"
      ],
      "metadata": {
        "id": "P4bXx9PfdgX4"
      }
    },
    {
      "cell_type": "markdown",
      "source": [
        "Another linear subspace we observe is the Span. This is the set of all linear combinations."
      ],
      "metadata": {
        "id": "23LtApFoexo6"
      }
    },
    {
      "cell_type": "markdown",
      "source": [
        "Span can be defined as $span(w_1,...,w_m) = \\{∑_{j=1}^{m} \\alpha_j w_j: \\alpha_1,...,\\alpha_m \\in \\mathbb{R}\\}$."
      ],
      "metadata": {
        "id": "qIkn9EEcfQX1"
      }
    },
    {
      "cell_type": "markdown",
      "source": [
        "**1.2.2 Orthogonality**"
      ],
      "metadata": {
        "id": "lf3bgDKSfrTl"
      }
    },
    {
      "cell_type": "markdown",
      "source": [
        "Orthonormal bases are used to simplify mathmetical representations, which additionally can reveal insights in regard to the underlying problem being worked on."
      ],
      "metadata": {
        "id": "GqzMiGEYgErZ"
      }
    },
    {
      "cell_type": "markdown",
      "source": [
        "The Norm and Inner Product, expressed as $<u,v> = u * v = ∑_{j}^{n}u_iv_i$ and $||u|| = \\sqrt{∑_{1}^{n}u_{i}^{2}}$, are an example of one such tools."
      ],
      "metadata": {
        "id": "is6LCfjwgohO"
      }
    },
    {
      "cell_type": "markdown",
      "source": [
        "In the most straight forward definition orthonormal-ity is defined as for all $i$ and all $j \\not= i$, $<u_i,u_j> =0$, and $||u_i|| = 1$."
      ],
      "metadata": {
        "id": "bdLh_czthRT4"
      }
    },
    {
      "cell_type": "markdown",
      "source": [
        "And lastly we see Orthonormal Basis Expansion, which is expressed as $u = ∑_{j=1}^{m}<u,q_j>q_j$. This allows us to construct a unique and simple representation of a vector."
      ],
      "metadata": {
        "id": "H6LwNvF3h5-X"
      }
    },
    {
      "cell_type": "markdown",
      "source": [
        "**1.2.3 Gram-Schmidt Process**"
      ],
      "metadata": {
        "id": "GtAqGDTsjBIE"
      }
    },
    {
      "cell_type": "markdown",
      "source": [
        "One way of obtaining orthonormal basis is through use of The Gram-Schmidt algorithm. This is formally defined as:"
      ],
      "metadata": {
        "id": "GEnbv9apjdcf"
      }
    },
    {
      "cell_type": "markdown",
      "source": [
        "Let $a_1,...,a_m \\in R^n$ be linearly independent, then there exists an orthonormal basis $q_1,...,q_{i-1}$ of $span(a_1,...,a_m)$."
      ],
      "metadata": {
        "id": "GfA-X57Jl1vC"
      }
    },
    {
      "cell_type": "markdown",
      "source": [
        "From definition we see that we continue to add vectors after using ridding ourselves of the previously used orthogonal projection."
      ],
      "metadata": {
        "id": "Wm0NP4qDms_S"
      }
    },
    {
      "cell_type": "markdown",
      "source": [
        "**1.2.4 Eigenvalues and Eigenvectors**"
      ],
      "metadata": {
        "id": "6TQdSOENnTNf"
      }
    },
    {
      "cell_type": "markdown",
      "source": [
        "Formally, eigenvalues and eigenvectors are defined as follows:"
      ],
      "metadata": {
        "id": "HYr8CM5SnYBx"
      }
    },
    {
      "cell_type": "markdown",
      "source": [
        "Let $A \\in \\mathbb{R}^{d × d}$ be a square matrix. Then $λ \\in \\mathbb{R}$ is an eigenvalue of $A$ if there exists a nonzero vector $x \\not= 0$ such that $Ax=λx$. And $x$ is referred to as the eigenvector."
      ],
      "metadata": {
        "id": "SGYxMqSWnk0B"
      }
    },
    {
      "cell_type": "markdown",
      "source": [
        "While daunting to calculate by hand, Python is a powerful tool for solving such things."
      ],
      "metadata": {
        "id": "xrCtljxkoLpE"
      }
    },
    {
      "cell_type": "code",
      "source": [
        "import numpy as np\n",
        "from numpy.linalg import eig\n",
        "a=np.array([[1,2,3],[1,6,7],[2,9,4]])\n",
        "u,v=eig(a)\n",
        "print('Eigenvalue:', u)\n",
        "print('Eigenvector:', v)"
      ],
      "metadata": {
        "colab": {
          "base_uri": "https://localhost:8080/"
        },
        "id": "24r60s2loj02",
        "outputId": "949dd244-90e1-434e-a263-737547bcd85b"
      },
      "execution_count": 4,
      "outputs": [
        {
          "output_type": "stream",
          "name": "stdout",
          "text": [
            "Eigenvalue: [13.57385977  0.64153502 -3.21539479]\n",
            "Eigenvector: [[-0.27126924 -0.97249389 -0.28790787]\n",
            " [-0.67235991  0.22995462 -0.5592621 ]\n",
            " [-0.6887272  -0.03710141  0.77738984]]\n"
          ]
        }
      ]
    },
    {
      "cell_type": "markdown",
      "source": [
        "**1.3 Linear Regression**"
      ],
      "metadata": {
        "id": "TXzXNHBNpmpI"
      }
    },
    {
      "cell_type": "markdown",
      "source": [
        "Linear regression is a frequently used tool at our disposal. The models depend linearly on their unknown parameters and therefore are easy to fit. QR decomposition is used to solve the linear least squares problem. All we need is to first use teh Gram-Schmidt algorithm for an orthonormal basis and calculate $A=QR$. A breeze with Python of course."
      ],
      "metadata": {
        "id": "TIkgQQe6pr0s"
      }
    },
    {
      "cell_type": "code",
      "source": [
        "import numpy as np\n",
        "from numpy.linalg import qr\n",
        "a=np.array([[1,2,3],[1,6,7],[2,9,4]])\n",
        "p=[3,4,8,14]\n",
        "for i in range(14):\n",
        "  q,r=qr(a)\n",
        "  a=np.dot(r,q)\n",
        "  if i+1 in p:\n",
        "    print(f'Iteration {i+1}:')\n",
        "    print(a)"
      ],
      "metadata": {
        "colab": {
          "base_uri": "https://localhost:8080/"
        },
        "id": "PLRMNJSDqlVe",
        "outputId": "d0b3a5b0-3eb5-4701-bef6-10c6f2a54551"
      },
      "execution_count": 5,
      "outputs": [
        {
          "output_type": "stream",
          "name": "stdout",
          "text": [
            "Iteration 3:\n",
            "[[13.54787042 -1.93014273  1.68080871]\n",
            " [-0.25399094 -3.16631939 -0.14353358]\n",
            " [-0.03486334 -0.64050904  0.61844897]]\n",
            "Iteration 4:\n",
            "[[ 1.35785732e+01 -1.24352196e+00 -2.00168294e+00]\n",
            " [ 6.11909070e-02 -3.19873185e+00 -6.58344883e-01]\n",
            " [ 1.62768451e-03 -1.24986758e-01  6.20158662e-01]]\n",
            "Iteration 8:\n",
            "[[ 1.35738755e+01 -1.36892711e+00 -1.96179300e+00]\n",
            " [ 1.92466907e-04 -3.21538320e+00 -5.26393586e-01]\n",
            " [ 8.15960104e-09 -1.99907851e-04  6.41507737e-01]]\n",
            "Iteration 14:\n",
            "[[ 1.35738598e+01 -1.36922121e+00 -1.96172808e+00]\n",
            " [ 3.40048115e-08 -3.21539479e+00 -5.26171206e-01]\n",
            " [ 9.09439165e-17 -1.26110527e-08  6.41535019e-01]]\n"
          ]
        }
      ]
    },
    {
      "cell_type": "markdown",
      "source": [
        "The least squares problems can be solved in a similar fashion. Using least squares regression. This allows us to find the estimation function with the least total squared error. In other words, a means of optimization."
      ],
      "metadata": {
        "id": "enawZq_XrPC4"
      }
    },
    {
      "cell_type": "code",
      "source": [
        "import numpy as np\n",
        "from scipy import optimize\n",
        "x=np.linspace(1,24,39)\n",
        "y=1+x+x*np.random.random(len(x))\n",
        "A=np.vstack([x,np.ones(len(x))]).T\n",
        "y=y[:,np.newaxis]\n",
        "a=np.dot((np.dot(np.linalg.inv(np.dot(A.T,A)),A.T)),y)\n",
        "print(a)"
      ],
      "metadata": {
        "colab": {
          "base_uri": "https://localhost:8080/"
        },
        "id": "RIZt5SNhr0la",
        "outputId": "e87e39e3-f908-428b-c378-37b5bb3c6bf5"
      },
      "execution_count": 6,
      "outputs": [
        {
          "output_type": "stream",
          "name": "stdout",
          "text": [
            "[[1.40696583]\n",
            " [1.96569067]]\n"
          ]
        }
      ]
    },
    {
      "cell_type": "markdown",
      "source": [
        "Graphing this is a good visual guide to see how well our optimization is. The straight line through the center of where all are points are scattered is ideal."
      ],
      "metadata": {
        "id": "wbYBh6YushIr"
      }
    },
    {
      "cell_type": "code",
      "source": [
        "import matplotlib.pyplot as plt\n",
        "plt.figure(figsize=(5,4))\n",
        "plt.plot(x, y, 'b.')\n",
        "plt.plot(x, a[0]*x + a[1], 'r')\n",
        "plt.xlabel('x'); plt.ylabel('y')\n",
        "plt.show()"
      ],
      "metadata": {
        "colab": {
          "base_uri": "https://localhost:8080/",
          "height": 388
        },
        "id": "P5WKuIWkspXX",
        "outputId": "72dd4d4f-ef7b-4702-a0de-d9e8e625ca7f"
      },
      "execution_count": 8,
      "outputs": [
        {
          "output_type": "display_data",
          "data": {
            "text/plain": [
              "<Figure size 500x400 with 1 Axes>"
            ],
            "image/png": "[encoded data removed]"
          },
          "metadata": {}
        }
      ]
    }
  ]
}