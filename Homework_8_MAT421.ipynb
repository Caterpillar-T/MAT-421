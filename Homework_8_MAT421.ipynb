{
  "nbformat": 4,
  "nbformat_minor": 0,
  "metadata": {
    "colab": {
      "provenance": [],
      "authorship_tag": "ABX9TyP3KsMeWL4/QM9m3jnMF0j9",
      "include_colab_link": true
    },
    "kernelspec": {
      "name": "python3",
      "display_name": "Python 3"
    },
    "language_info": {
      "name": "python"
    }
  },
  "cells": [
    {
      "cell_type": "markdown",
      "metadata": {
        "id": "view-in-github",
        "colab_type": "text"
      },
      "source": [
        "<a href=\"https://colab.research.google.com/github/Caterpillar-T/MAT-421/blob/main/Homework_8_MAT421.ipynb\" target=\"_parent\"><img src=\"https://colab.research.google.com/assets/colab-badge.svg\" alt=\"Open In Colab\"/></a>"
      ]
    },
    {
      "cell_type": "markdown",
      "source": [
        "Homework 8 MAT421"
      ],
      "metadata": {
        "id": "HOGFt0f5N6dk"
      }
    },
    {
      "cell_type": "markdown",
      "source": [
        "Kyle Tucker"
      ],
      "metadata": {
        "id": "tPRFugbPN6SM"
      }
    },
    {
      "cell_type": "markdown",
      "source": [
        "**Section 21.1: Numerical Integration Problem Statement**"
      ],
      "metadata": {
        "id": "ph7s2-TMN9-9"
      }
    },
    {
      "cell_type": "markdown",
      "source": [
        "To approximate the integral of a function $f(x)$ over its interval $[a,b]$ we assume an interval consisting of $n+1$ points with spacing $h=\\frac{b-a}{n}$. Much like the formal definition of an integral the points are denoted in $x$ by $x_i$, where $x_0 = a$ and $x_n =b$."
      ],
      "metadata": {
        "id": "KqBrDXRgOGgM"
      }
    },
    {
      "cell_type": "markdown",
      "source": [
        "Further, we assume that our function can be computed for any grid points and that the interval $[x_i, x_{i+1}]$ is referred to as a subinterval. Where it is typically the case that $a = x_0 \\leq x_i \\leq x_{i+1} \\leq ... \\leq x_n =b$."
      ],
      "metadata": {
        "id": "wzfYeaW_QQRQ"
      }
    },
    {
      "cell_type": "markdown",
      "source": [
        "**Section 21.2: Riemanns Integral**"
      ],
      "metadata": {
        "id": "CHmBIZiAQ5gI"
      }
    },
    {
      "cell_type": "markdown",
      "source": [
        "The Riemann Integral is usually how students are shown visually what integration is early on in their mathematical career. Using rectangles defined for each subinterval, the integral can be approximated by summing the area."
      ],
      "metadata": {
        "id": "thW7GFiFRWZq"
      }
    },
    {
      "cell_type": "markdown",
      "source": [
        "Depending upon which endpoint is chosen Riemann Integral approximation looks like $∫_{a}^{b} f(x)dx≈∑_{i=0}^{n-1}hf(x_i)$ or $∫_{a}^{b} f(x)dx≈∑_{i=1}^{n}hf(x_i)$."
      ],
      "metadata": {
        "id": "_YhB-jDVR3W1"
      }
    },
    {
      "cell_type": "markdown",
      "source": [
        "The Midpoint Rule is a very similar approximation to the ones as above, the only difference is we denote $y_i = \\frac{x_{i+1} + x_i}{2}$ and then the approximation looks like $∫_{a}^{b} f(x)dx≈∑_{i=0}^{n-1}hf(y_i)$."
      ],
      "metadata": {
        "id": "O3Et9KrJSVoB"
      }
    },
    {
      "cell_type": "markdown",
      "source": [
        "Below is an example using Python to approximate $∫_{0}^{3\\pi/2}cos(x)dx$ with 12 evenly spaced grid points.\n"
      ],
      "metadata": {
        "id": "pcdmqlrsUPTA"
      }
    },
    {
      "cell_type": "code",
      "source": [
        "import numpy as np\n",
        "\n",
        "a = 0\n",
        "b = np.pi*3/2\n",
        "n = 12\n",
        "h = (b - a) / (n - 1)\n",
        "x = np.linspace(a, b, n)\n",
        "f = np.cos(x)\n",
        "\n",
        "I_riemannL = h * sum(f[:n-1])\n",
        "err_riemannL = -1 - I_riemannL\n",
        "\n",
        "I_riemannR = h * sum(f[1::])\n",
        "err_riemannR = -1 - I_riemannR\n",
        "\n",
        "I_mid = h * sum(np.cos((x[:n-1] \\\n",
        "        + x[1:])/2))\n",
        "err_mid = -1 - I_mid\n",
        "\n",
        "print(I_riemannL)\n",
        "print(err_riemannL)\n",
        "\n",
        "print(I_riemannR)\n",
        "print(err_riemannR)\n",
        "\n",
        "print(I_mid)\n",
        "print(err_mid)"
      ],
      "metadata": {
        "colab": {
          "base_uri": "https://localhost:8080/"
        },
        "id": "9vJLXmN6S7OE",
        "outputId": "b9a757fb-935f-4255-fdbf-a6b0c13b34b9"
      },
      "execution_count": null,
      "outputs": [
        {
          "output_type": "stream",
          "name": "stdout",
          "text": [
            "-0.7704597069478994\n",
            "-0.22954029305210055\n",
            "-1.1988587051646895\n",
            "0.1988587051646895\n",
            "-1.007688035797637\n",
            "0.007688035797636994\n"
          ]
        }
      ]
    },
    {
      "cell_type": "markdown",
      "source": [
        "**Section 21.3: Trapezoid Rule**"
      ],
      "metadata": {
        "id": "2t9bFlLsXqax"
      }
    },
    {
      "cell_type": "markdown",
      "source": [
        "Instead of rectangles, the Trapezoid Rule does exactly what its name implies, and fits a trapezoid into each subinterval and then sums all the areas."
      ],
      "metadata": {
        "id": "jvUBPL9-XtgK"
      }
    },
    {
      "cell_type": "markdown",
      "source": [
        "Its approximation of the intregral looks like: $\\int_{a}^{b}f(x)dx≈\\sum_{i=0}^{n-1}h\\frac{f(x_i)+f(x_{i+1})}{2}$."
      ],
      "metadata": {
        "id": "jEeLt4rGYQWE"
      }
    },
    {
      "cell_type": "markdown",
      "source": [
        "If we use the same example as above $∫_{0}^{3\\pi/2}cos(x)dx$ with 12 evenly spaced grid points we will see comparible results."
      ],
      "metadata": {
        "id": "GgQAhlo6Y2ui"
      }
    },
    {
      "cell_type": "code",
      "source": [
        "import numpy as np\n",
        "\n",
        "a = 0\n",
        "b = np.pi*3/2\n",
        "n = 12\n",
        "h = (b - a) / (n - 1)\n",
        "x = np.linspace(a, b, n)\n",
        "f = np.cos(x)\n",
        "\n",
        "I_trap = (h/2)*(f[0] + \\\n",
        "          2 * sum(f[1:n-1]) + f[n-1])\n",
        "err_trap = -1 - I_trap\n",
        "\n",
        "print(I_trap)\n",
        "print(err_trap)"
      ],
      "metadata": {
        "colab": {
          "base_uri": "https://localhost:8080/"
        },
        "id": "1pP_zw9TZFI-",
        "outputId": "dbf22759-8f1f-406d-d7db-e1d2cd86e75c"
      },
      "execution_count": null,
      "outputs": [
        {
          "output_type": "stream",
          "name": "stdout",
          "text": [
            "-0.9846592060562945\n",
            "-0.015340793943705466\n"
          ]
        }
      ]
    }
  ]
}