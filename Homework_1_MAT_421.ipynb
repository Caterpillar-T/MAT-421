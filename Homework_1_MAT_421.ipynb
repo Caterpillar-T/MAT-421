{
  "nbformat": 4,
  "nbformat_minor": 0,
  "metadata": {
    "colab": {
      "provenance": [],
      "authorship_tag": "ABX9TyNoLqlEqhcUaM+WCs4cGrhM",
      "include_colab_link": true
    },
    "kernelspec": {
      "name": "python3",
      "display_name": "Python 3"
    },
    "language_info": {
      "name": "python"
    }
  },
  "cells": [
    {
      "cell_type": "markdown",
      "metadata": {
        "id": "view-in-github",
        "colab_type": "text"
      },
      "source": [
        "<a href=\"https://colab.research.google.com/github/Caterpillar-T/MAT-421/blob/main/Homework_1_MAT_421.ipynb\" target=\"_parent\"><img src=\"https://colab.research.google.com/assets/colab-badge.svg\" alt=\"Open In Colab\"/></a>"
      ]
    },
    {
      "cell_type": "markdown",
      "source": [
        "Homework 1 MAT 421"
      ],
      "metadata": {
        "id": "NPgRo5DHfDIY"
      }
    },
    {
      "cell_type": "markdown",
      "source": [
        "Kyle Tucker"
      ],
      "metadata": {
        "id": "ZtY2dReufeD4"
      }
    },
    {
      "cell_type": "markdown",
      "source": [
        "**Section 9.1: Base N and Binary**\n",
        "\n",
        "*   We in our day to day typically work in base 10, meaning we work with numbers 0 to 9 to represent the amount of numbers to the power of 10.\n",
        "*   Computers work not in base 10, but in base 2 or binary, which we are able to convert between.\n",
        "\n"
      ],
      "metadata": {
        "id": "xvx5xTxgfkvP"
      }
    },
    {
      "cell_type": "code",
      "source": [
        "# Base 10 Decomposition\n",
        "# 99 (Base 10)\n",
        "\n",
        "99 == (9 * 10**1) + (9 * 10**0)"
      ],
      "metadata": {
        "colab": {
          "base_uri": "https://localhost:8080/"
        },
        "id": "kMdvJ2k2fJ2w",
        "outputId": "85808fc5-63c7-4f8f-9439-ecee6daf008e"
      },
      "execution_count": null,
      "outputs": [
        {
          "output_type": "execute_result",
          "data": {
            "text/plain": [
              "True"
            ]
          },
          "metadata": {},
          "execution_count": 2
        }
      ]
    },
    {
      "cell_type": "code",
      "source": [
        "# Base 10 to Binary Conversion\n",
        "# 99 (Base 10) = 1100011 (Base 2)\n",
        "\n",
        "(9 * 10**1) + (9 * 10**0) == (1 * 2**6) + (1 * 2**5) + (0 * 2**4) + (0 * 2**3) + (0 * 2**2) + (1 * 2**1) + (1 * 2**0)"
      ],
      "metadata": {
        "colab": {
          "base_uri": "https://localhost:8080/"
        },
        "id": "rUtL3YkjjeNB",
        "outputId": "7e3dcf73-50e8-4673-dd31-657b59622ab8"
      },
      "execution_count": null,
      "outputs": [
        {
          "output_type": "execute_result",
          "data": {
            "text/plain": [
              "True"
            ]
          },
          "metadata": {},
          "execution_count": 3
        }
      ]
    },
    {
      "cell_type": "code",
      "source": [
        "# Python has a built in command: bin() which will convert a base 10 number to binary\n",
        "bin(99)"
      ],
      "metadata": {
        "colab": {
          "base_uri": "https://localhost:8080/",
          "height": 35
        },
        "id": "r4CBkAmtwJgb",
        "outputId": "7fbf29df-040b-4622-b158-b1253901586b"
      },
      "execution_count": null,
      "outputs": [
        {
          "output_type": "execute_result",
          "data": {
            "text/plain": [
              "'0b1100011'"
            ],
            "application/vnd.google.colaboratory.intrinsic+json": {
              "type": "string"
            }
          },
          "metadata": {},
          "execution_count": 6
        }
      ]
    },
    {
      "cell_type": "markdown",
      "source": [
        "Binary addition and multiplication are surprisingly easy and follow the rules of our base 10 operations. Additionally, they can be decomposed and converted between just as easily in order to double check work done by hand."
      ],
      "metadata": {
        "id": "82WoGW72kvO-"
      }
    },
    {
      "cell_type": "code",
      "source": [
        "# Binary addition for : 11 + 34 = 45\n",
        "# 1011 + 100010 = 101101\n",
        "\n",
        "45 == 1*2**5 + 0*2**4 + 1*2**3 + 1*2**2 + 0*2**1 + 1*2**0"
      ],
      "metadata": {
        "colab": {
          "base_uri": "https://localhost:8080/"
        },
        "id": "okfYE7nPlZmm",
        "outputId": "61352d6b-4a2f-4df8-9e0d-5fca70a4b1fa"
      },
      "execution_count": null,
      "outputs": [
        {
          "output_type": "execute_result",
          "data": {
            "text/plain": [
              "True"
            ]
          },
          "metadata": {},
          "execution_count": 4
        }
      ]
    },
    {
      "cell_type": "code",
      "source": [
        "# Binary multiplication for : 5 * 12 = 60\n",
        "# 101 * 1100 = 111100\n",
        "\n",
        "60 == 1*2**5 + 1*2**4 + 1*2**3 + 1*2**2 + 0*2**1 + 0*2**0"
      ],
      "metadata": {
        "colab": {
          "base_uri": "https://localhost:8080/"
        },
        "id": "1t-SspGcaAaL",
        "outputId": "3efd7dca-0092-4ac7-c8d0-add987227b9e"
      },
      "execution_count": null,
      "outputs": [
        {
          "output_type": "execute_result",
          "data": {
            "text/plain": [
              "True"
            ]
          },
          "metadata": {},
          "execution_count": 5
        }
      ]
    },
    {
      "cell_type": "markdown",
      "source": [
        "Of course, these operations need not be done by hand. Python is just as capable, if not more, at performing these operations for us."
      ],
      "metadata": {
        "id": "O8eovO_4w6nX"
      }
    },
    {
      "cell_type": "code",
      "source": [
        "# Binary addition\n",
        "\n",
        "print(bin(21))\n",
        "print(bin(19))\n",
        "a = 0b10101\n",
        "b = 0b10011\n",
        "c = a+b\n",
        "print(\"sum of 10101 + 10011\")\n",
        "print(bin(c))\n",
        "\n",
        "\n"
      ],
      "metadata": {
        "colab": {
          "base_uri": "https://localhost:8080/"
        },
        "id": "4CveslRgw471",
        "outputId": "299ae22e-2eba-4313-a9cf-e93fc3454939"
      },
      "execution_count": null,
      "outputs": [
        {
          "output_type": "stream",
          "name": "stdout",
          "text": [
            "0b10101\n",
            "0b10011\n",
            "sum of 10101 + 10011\n",
            "0b101000\n"
          ]
        }
      ]
    },
    {
      "cell_type": "code",
      "source": [
        "# Binary multiplication\n",
        "\n",
        "print(bin(13))\n",
        "print(bin(9))\n",
        "a = 0b1101\n",
        "b = 0b1001\n",
        "c = a*b\n",
        "print(\"product of 1101 * 1001\")\n",
        "print(bin(c))"
      ],
      "metadata": {
        "colab": {
          "base_uri": "https://localhost:8080/"
        },
        "id": "s1zHSUivw4s-",
        "outputId": "d40d9439-2ac9-4b0e-aba4-a793181f4eeb"
      },
      "execution_count": null,
      "outputs": [
        {
          "output_type": "stream",
          "name": "stdout",
          "text": [
            "0b1101\n",
            "0b1001\n",
            "product of 1101 * 1001\n",
            "0b1110101\n"
          ]
        }
      ]
    },
    {
      "cell_type": "markdown",
      "source": [
        "**Section 9.2: Floating Point Numbers**\n",
        "\n",
        "\n",
        "*   Computers in their limited capacity will only store and output so many digits.\n",
        "*   Floating points numbers, also called floats, allocate numbers in a way that is effecient for the computer.\n",
        "\n",
        "*   Python floats are typically mapped to IEEE754 double precision, which has 64 bits total and is represented by this equation: $n=(−1)^s2^{e−1023}(1+f)$\n",
        "*   These bits are allocated as follows: 52 bits allocated to fractions, 11 bits allocated to exponents, and 1 bit allocated to the sign.\n",
        "\n",
        "*   Any distance from one number to the next is referred to as the gap and can be computed in Python\n",
        "\n",
        "\n",
        "\n",
        "\n",
        "\n",
        "\n",
        "\n"
      ],
      "metadata": {
        "id": "gDAXhAF6vZvN"
      }
    },
    {
      "cell_type": "code",
      "source": [
        "import numpy as np\n",
        "np.spacing(3e4) # Outputs the gap at 3e4"
      ],
      "metadata": {
        "id": "dVAEER3e1Fgn",
        "colab": {
          "base_uri": "https://localhost:8080/"
        },
        "outputId": "6b2deef4-4d7b-4c8f-bfeb-633594526e07"
      },
      "execution_count": null,
      "outputs": [
        {
          "output_type": "execute_result",
          "data": {
            "text/plain": [
              "3.637978807091713e-12"
            ]
          },
          "metadata": {},
          "execution_count": 2
        }
      ]
    },
    {
      "cell_type": "code",
      "source": [
        "import numpy as np\n",
        "np.spacing(3e4)\n",
        "3e4 == (3e4 + np.spacing(3e4)/5) # This shows that adding any value that is less than half the gap results in the same value (1/5 < 1/2)"
      ],
      "metadata": {
        "colab": {
          "base_uri": "https://localhost:8080/"
        },
        "id": "vjG3PGqBunei",
        "outputId": "205f5e13-19ed-41a2-8e6c-b6b5f9c4dc87"
      },
      "execution_count": null,
      "outputs": [
        {
          "output_type": "execute_result",
          "data": {
            "text/plain": [
              "True"
            ]
          },
          "metadata": {},
          "execution_count": 8
        }
      ]
    },
    {
      "cell_type": "markdown",
      "source": [
        "There are instances in which the number that is being represented will be larger or smaller than what is actually representable, given our available bytes.\n",
        "\n",
        "*   When the value is too large this is referred to as overflow and outputs inf.\n",
        "*   When the value is too small this is referred to as underflow and outputs 0.0.\n",
        "\n"
      ],
      "metadata": {
        "id": "zP6IHcH5wEbf"
      }
    },
    {
      "cell_type": "code",
      "source": [
        "# Overflow example\n",
        "\n",
        "45e7899"
      ],
      "metadata": {
        "colab": {
          "base_uri": "https://localhost:8080/"
        },
        "id": "Jx3wLTonIHyx",
        "outputId": "c7d89f5a-4a9f-4a7f-dc59-d76cd72cd5ef"
      },
      "execution_count": null,
      "outputs": [
        {
          "output_type": "execute_result",
          "data": {
            "text/plain": [
              "inf"
            ]
          },
          "metadata": {},
          "execution_count": 1
        }
      ]
    },
    {
      "cell_type": "code",
      "source": [
        "# Underflow example\n",
        "\n",
        "78e-3567"
      ],
      "metadata": {
        "colab": {
          "base_uri": "https://localhost:8080/"
        },
        "id": "OlOqVMdgIILR",
        "outputId": "6e316592-d135-4d9a-ac1e-6646a856b478"
      },
      "execution_count": null,
      "outputs": [
        {
          "output_type": "execute_result",
          "data": {
            "text/plain": [
              "0.0"
            ]
          },
          "metadata": {},
          "execution_count": 2
        }
      ]
    },
    {
      "cell_type": "markdown",
      "source": [
        "**Section 9.3: Round-Off Errors**\n",
        "\n",
        "*   A numbers true value and a numbers approximated value differ due to the finite number of available bytes\n",
        "*   This is easily observable with something like $2^{1/2}$\n",
        "\n"
      ],
      "metadata": {
        "id": "unY3nXlXIj3V"
      }
    },
    {
      "cell_type": "code",
      "source": [
        "# Round-off error example ie. the square root of 2 is irrational\n",
        "\n",
        "2**.5"
      ],
      "metadata": {
        "colab": {
          "base_uri": "https://localhost:8080/"
        },
        "id": "bOH5cgMtLa5Y",
        "outputId": "a5f03f68-1a6a-443f-8e84-74e868885eb7"
      },
      "execution_count": null,
      "outputs": [
        {
          "output_type": "execute_result",
          "data": {
            "text/plain": [
              "1.4142135623730951"
            ]
          },
          "metadata": {},
          "execution_count": 3
        }
      ]
    },
    {
      "cell_type": "markdown",
      "source": [
        "Something like 9.75 and 9.34 has a clear difference that is easy enough for us to calculate and we immediately see the difference is 0.41. Python does not necissarily see things that way due to round-off error."
      ],
      "metadata": {
        "id": "F51oKsWoLz1W"
      }
    },
    {
      "cell_type": "code",
      "source": [
        "9.75 - 9.34 == 0.41"
      ],
      "metadata": {
        "colab": {
          "base_uri": "https://localhost:8080/"
        },
        "id": "eDyXXZSnMNHK",
        "outputId": "717da584-3c22-4282-900a-c8d5701b5806"
      },
      "execution_count": null,
      "outputs": [
        {
          "output_type": "execute_result",
          "data": {
            "text/plain": [
              "False"
            ]
          },
          "metadata": {},
          "execution_count": 6
        }
      ]
    },
    {
      "cell_type": "markdown",
      "source": [
        "We can see exactly why by having Python calculate the difference for us."
      ],
      "metadata": {
        "id": "Ev1WoQRzMoWE"
      }
    },
    {
      "cell_type": "code",
      "source": [
        "# This discrepency is due to floating points not being represented by their true values\n",
        "\n",
        "9.75 - 9.34"
      ],
      "metadata": {
        "colab": {
          "base_uri": "https://localhost:8080/"
        },
        "id": "Uf6Fh-9MMtLe",
        "outputId": "62ab806a-9e9d-467a-a8bf-5770430d9203"
      },
      "execution_count": null,
      "outputs": [
        {
          "output_type": "execute_result",
          "data": {
            "text/plain": [
              "0.41000000000000014"
            ]
          },
          "metadata": {},
          "execution_count": 7
        }
      ]
    },
    {
      "cell_type": "code",
      "source": [
        "# What is considered true with round-off error.\n",
        "\n",
        "9.75 - 9.34 == 0.41000000000000014"
      ],
      "metadata": {
        "colab": {
          "base_uri": "https://localhost:8080/"
        },
        "id": "m4trLyFLNKYX",
        "outputId": "3ab9d0d8-7e21-40f9-eb5c-93f203671e19"
      },
      "execution_count": null,
      "outputs": [
        {
          "output_type": "execute_result",
          "data": {
            "text/plain": [
              "True"
            ]
          },
          "metadata": {},
          "execution_count": 8
        }
      ]
    },
    {
      "cell_type": "code",
      "source": [
        "# The round() function can alleviate some of the error (rounding to two decimal places).\n",
        "\n",
        "round(9.75-9.34,2) # The output looks much more like what we would get by hand"
      ],
      "metadata": {
        "colab": {
          "base_uri": "https://localhost:8080/"
        },
        "id": "ods4ZVQpNtsU",
        "outputId": "23431df5-ef48-40e0-8bc8-d154ca236c32"
      },
      "execution_count": null,
      "outputs": [
        {
          "output_type": "execute_result",
          "data": {
            "text/plain": [
              "0.41"
            ]
          },
          "metadata": {},
          "execution_count": 11
        }
      ]
    },
    {
      "cell_type": "markdown",
      "source": [
        "The greater number of calculations performed the greater accumulation of error."
      ],
      "metadata": {
        "id": "fSg0wHNYObxw"
      }
    },
    {
      "cell_type": "code",
      "source": [
        "# No apparent error with short single calculation\n",
        "\n",
        "10+1/6-1/6"
      ],
      "metadata": {
        "colab": {
          "base_uri": "https://localhost:8080/"
        },
        "id": "8rVEuQ2hOcCd",
        "outputId": "14abe216-f431-49b8-f501-857481d4d315"
      },
      "execution_count": null,
      "outputs": [
        {
          "output_type": "execute_result",
          "data": {
            "text/plain": [
              "10.0"
            ]
          },
          "metadata": {},
          "execution_count": 14
        }
      ]
    },
    {
      "cell_type": "code",
      "source": [
        "def error_acu(x):\n",
        "    result = 10\n",
        "\n",
        "    for i in range(x):\n",
        "        result += 1/9\n",
        "\n",
        "    for i in range(x):\n",
        "        result -= 1/9\n",
        "    return result"
      ],
      "metadata": {
        "id": "RRebvQJHPTFl"
      },
      "execution_count": null,
      "outputs": []
    },
    {
      "cell_type": "code",
      "source": [
        "# We begin seeing accumulation of error with the successive calculations\n",
        "\n",
        "error_acu(250)"
      ],
      "metadata": {
        "colab": {
          "base_uri": "https://localhost:8080/"
        },
        "id": "7DjosZLOPb_b",
        "outputId": "ef14635d-d07a-4e6a-ff70-55ee9bfda9f3"
      },
      "execution_count": null,
      "outputs": [
        {
          "output_type": "execute_result",
          "data": {
            "text/plain": [
              "10.000000000000004"
            ]
          },
          "metadata": {},
          "execution_count": 46
        }
      ]
    },
    {
      "cell_type": "code",
      "source": [
        "# More error is observed\n",
        "\n",
        "error_acu(5000)"
      ],
      "metadata": {
        "colab": {
          "base_uri": "https://localhost:8080/"
        },
        "id": "f9cNh6qtPkeS",
        "outputId": "f820ceee-27b6-4331-bd06-d3ceb106b38b"
      },
      "execution_count": null,
      "outputs": [
        {
          "output_type": "execute_result",
          "data": {
            "text/plain": [
              "9.999999999999968"
            ]
          },
          "metadata": {},
          "execution_count": 42
        }
      ]
    },
    {
      "cell_type": "code",
      "source": [
        "# And even more error is observed\n",
        "\n",
        "error_acu(10000)"
      ],
      "metadata": {
        "colab": {
          "base_uri": "https://localhost:8080/"
        },
        "id": "XIdCq_GwQBHr",
        "outputId": "c4204087-1e9f-481d-cfea-168114e149be"
      },
      "execution_count": null,
      "outputs": [
        {
          "output_type": "execute_result",
          "data": {
            "text/plain": [
              "10.000000000000078"
            ]
          },
          "metadata": {},
          "execution_count": 43
        }
      ]
    }
  ]
}