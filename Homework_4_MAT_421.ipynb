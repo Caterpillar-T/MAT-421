{
  "nbformat": 4,
  "nbformat_minor": 0,
  "metadata": {
    "colab": {
      "provenance": [],
      "authorship_tag": "ABX9TyNje5tTRwiIPoyjZwpEUFsC",
      "include_colab_link": true
    },
    "kernelspec": {
      "name": "python3",
      "display_name": "Python 3"
    },
    "language_info": {
      "name": "python"
    }
  },
  "cells": [
    {
      "cell_type": "markdown",
      "metadata": {
        "id": "view-in-github",
        "colab_type": "text"
      },
      "source": [
        "<a href=\"https://colab.research.google.com/github/Caterpillar-T/MAT-421/blob/main/Homework_4_MAT_421.ipynb\" target=\"_parent\"><img src=\"https://colab.research.google.com/assets/colab-badge.svg\" alt=\"Open In Colab\"/></a>"
      ]
    },
    {
      "cell_type": "markdown",
      "source": [
        "Homework 4 MAT 421"
      ],
      "metadata": {
        "id": "Axj56ySNqaft"
      }
    },
    {
      "cell_type": "markdown",
      "source": [
        "Kyle Tucker"
      ],
      "metadata": {
        "id": "eoPS7CwFqbQs"
      }
    },
    {
      "cell_type": "markdown",
      "source": [
        "**Section 19.1: Root Finding Problem Statement**"
      ],
      "metadata": {
        "id": "yo2Hsyhzqgxh"
      }
    },
    {
      "cell_type": "markdown",
      "source": [
        "A root or zero function is precisely what you may think it is. There exists an $x$ for any function such that $f(x) = 0$. A simple example is $f(x) = x^4 -16$."
      ],
      "metadata": {
        "id": "3NJyhBamqshI"
      }
    },
    {
      "cell_type": "markdown",
      "source": [
        "Of course, in less elementary cases it is not such a simple calculatoin. In such cases generating numerical approximations are much simpler and still accurate."
      ],
      "metadata": {
        "id": "CzWSmI8crdiy"
      }
    },
    {
      "cell_type": "markdown",
      "source": [
        "Lets take a look when $f(x) = \\sqrt2 - x$"
      ],
      "metadata": {
        "id": "-8STO2Uor3wD"
      }
    },
    {
      "cell_type": "code",
      "source": [
        "import numpy as np\n",
        "from scipy import optimize\n",
        "f = lambda x: np.sqrt(2) - x\n",
        "r = optimize.fsolve(f, 0)\n",
        "print(\"r =\", r)\n",
        "result = f(r)\n",
        "print(\"result=\", result)"
      ],
      "metadata": {
        "colab": {
          "base_uri": "https://localhost:8080/"
        },
        "id": "gVDnu0W9rxsK",
        "outputId": "4ca427d5-ebf2-4318-cb67-b58f0c629c5e"
      },
      "execution_count": null,
      "outputs": [
        {
          "output_type": "stream",
          "name": "stdout",
          "text": [
            "r = [1.41421356]\n",
            "result= [0.]\n"
          ]
        }
      ]
    },
    {
      "cell_type": "markdown",
      "source": [
        "Naturally, there are function where no root exists.\n",
        "Let us take a look at an instance of that and what it outputs."
      ],
      "metadata": {
        "id": "frohR1vEtfJZ"
      }
    },
    {
      "cell_type": "code",
      "source": [
        "f = lambda x: 5/x\n",
        "r, infodict, ier, mesg = optimize.fsolve(f, 30, full_output=True)\n",
        "print(\"r =\", r)\n",
        "result = f(r)\n",
        "print(\"result=\", result)\n",
        "print(mesg)"
      ],
      "metadata": {
        "colab": {
          "base_uri": "https://localhost:8080/"
        },
        "id": "4cmPAq3btm1p",
        "outputId": "c6e2fbd8-60b4-4cd4-dc3a-c45f518ee3bd"
      },
      "execution_count": null,
      "outputs": [
        {
          "output_type": "stream",
          "name": "stdout",
          "text": [
            "r = [5.28071045e+84]\n",
            "result= [9.46842295e-85]\n",
            "The number of calls to function has reached maxfev = 400.\n"
          ]
        }
      ]
    },
    {
      "cell_type": "markdown",
      "source": [
        "**Section 19.2: Tolerance**"
      ],
      "metadata": {
        "id": "U8LlNLuAudEG"
      }
    },
    {
      "cell_type": "markdown",
      "source": [
        "Within STEM fields their exists a margin of error in most (if not all) computed values. Tolerance is the acceptable level of error."
      ],
      "metadata": {
        "id": "lLI_MW7YugG9"
      }
    },
    {
      "cell_type": "markdown",
      "source": [
        "In computer programs it is said to have converged to a solution when it has come to a solution with error smaller than the tolerance. Since we are looking for an $f(x)$ that is very close to 0, we want to find $|f(x)|$ or if we have something or have assumed something to the $n$th term it can be expressed $|x_{n+1} - x_n|$."
      ],
      "metadata": {
        "id": "qdMYGbCmv9KU"
      }
    },
    {
      "cell_type": "markdown",
      "source": [
        "**Section 19.3: Bisection Method**"
      ],
      "metadata": {
        "id": "OVoU17XKKxuc"
      }
    },
    {
      "cell_type": "markdown",
      "source": [
        "Something we have all seen in calculus, the intermediate value theorem, states that if $f(x)$ is continuous within the interval $[a, b]$, where $f(a) \\not= f(b)$ then there must exist a $c$ such that $a < c < b$ and $f(c) = 0$."
      ],
      "metadata": {
        "id": "71KvF0H_oWCL"
      }
    },
    {
      "cell_type": "markdown",
      "source": [
        "The bisection method puts this theorem to good use as a way to find roots iteratively. In simpler terms the bisection method is calculating the midpiont between two points and if that midpoint is within tolerance then the program declares the root."
      ],
      "metadata": {
        "id": "OsnOaHYKp3fB"
      }
    },
    {
      "cell_type": "markdown",
      "source": [
        "Below we will see an example when we have $f(x) = x^4 - 3$ (looking for the fourth root of 3) with $a=0$ and $b=6$ with variable tolerances."
      ],
      "metadata": {
        "id": "OffeDbicsFAL"
      }
    },
    {
      "cell_type": "code",
      "source": [
        "import numpy as np\n",
        "def my_bisection(f, a, b, tol):\n",
        "    if np.sign(f(a)) == np.sign(f(b)):\n",
        "        raise Exception(\n",
        "         \"The scalars a and b do not bound a root\")\n",
        "    m = (a + b)/2\n",
        "\n",
        "    if np.abs(f(m)) < tol:\n",
        "        return m\n",
        "    elif np.sign(f(a)) == np.sign(f(m)):\n",
        "        return my_bisection(f, m, b, tol)\n",
        "    elif np.sign(f(b)) == np.sign(f(m)):\n",
        "        return my_bisection(f, a, m, tol)"
      ],
      "metadata": {
        "id": "OLXOF3WfsJzF"
      },
      "execution_count": null,
      "outputs": []
    },
    {
      "cell_type": "code",
      "source": [
        "f = lambda x: x**4 - 3\n",
        "r1 = my_bisection(f, 0, 6, 0.1)\n",
        "print(\"r1 =\", r1)\n",
        "r01 = my_bisection(f, 0, 6, 0.01)\n",
        "print(\"r01 =\", r01)\n",
        "print(\"f(r1) =\", f(r1))\n",
        "print(\"f(r01) =\", f(r01))"
      ],
      "metadata": {
        "colab": {
          "base_uri": "https://localhost:8080/"
        },
        "id": "A37uvEmCsUdb",
        "outputId": "1a5854fb-113b-4419-bdd7-2d8c93fe0808"
      },
      "execution_count": null,
      "outputs": [
        {
          "output_type": "stream",
          "name": "stdout",
          "text": [
            "r1 = 1.3125\n",
            "r01 = 1.3154296875\n",
            "f(r1) = -0.0324554443359375\n",
            "f(r01) = -0.005870664651411062\n"
          ]
        }
      ]
    },
    {
      "cell_type": "markdown",
      "source": [
        "**Section 19.4: Newton-Raphson Method**"
      ],
      "metadata": {
        "id": "tAggy22VuRnj"
      }
    },
    {
      "cell_type": "markdown",
      "source": [
        "The Newton-Raphson Method works by improving upon an assumed $x_0$ by taking the linear approximation of $f(x)$ around $x_0$, where we of course want our output to be as close to $0$ as possible. The linear approximation of $f(x)$ around $x_0$ is $f(x) ≈ f(x_0)+f'(x_0)(x-x_0)$."
      ],
      "metadata": {
        "id": "q5ckDX6YuXYy"
      }
    },
    {
      "cell_type": "markdown",
      "source": [
        "We can use this approximation to find $x_1$ such that $f(x_1) = 0$. This would be our improvement upon $x_0$. Which would come out to be $x_1 = x_0 - \\frac{f(x_0)}{f'(x_0)}$. You'll notice then that computing the improved value follows a pattern involving our previous assumed value. This is expressed as $x_i = x_{i-1} - \\frac{f(x_{i-1})}{f'(x_{i-1})}$. Like the previously discussed methods the Newton-Raphson Method finds the roots iteratively until the error is within tolerance."
      ],
      "metadata": {
        "id": "iAcedPsNwdtl"
      }
    },
    {
      "cell_type": "markdown",
      "source": [
        "We will now take a look at this in action using the same example as before $f(x) = x^4 -3$ (looking for the fourth root of 3) with $x_0 = 1.3$ for our start point while comparing it to Pythons power function."
      ],
      "metadata": {
        "id": "Uf5gTDSAxbbx"
      }
    },
    {
      "cell_type": "code",
      "source": [
        "#Comparison between Newton-Raphson formula and Pythons np.power function to find 4th root of 3\n",
        "import numpy as np\n",
        "f = lambda x: x**4 - 3\n",
        "f_prime = lambda x: 4*x**3\n",
        "newton_raphson = 1.3 - (f(1.3))/(f_prime(1.3))\n",
        "print(\"newton_raphson =\", newton_raphson)\n",
        "print(\"fourth root(3) =\", np.power(3,1/4))"
      ],
      "metadata": {
        "colab": {
          "base_uri": "https://localhost:8080/"
        },
        "id": "Y9A6VhQHx3aI",
        "outputId": "37e4d784-94ac-40ad-e47e-9a85a06f5779"
      },
      "execution_count": null,
      "outputs": [
        {
          "output_type": "stream",
          "name": "stdout",
          "text": [
            "newton_raphson = 1.3163746017296314\n",
            "fourth root(3) = 1.3160740129524924\n"
          ]
        }
      ]
    },
    {
      "cell_type": "markdown",
      "source": [
        "**Section 19.5: Root Finding in Python**"
      ],
      "metadata": {
        "id": "Xvy0eTKHz0az"
      }
    },
    {
      "cell_type": "markdown",
      "source": [
        "While the previous discussed methods are practical and useful, as one would suspect, Python has its own root-finding functions that do not require us to play around with equations. We simply just plug in our function and our guesses."
      ],
      "metadata": {
        "id": "0ds1capMz9oy"
      }
    },
    {
      "cell_type": "markdown",
      "source": [
        "We will try this with a couple examples to see the functionality and convenience."
      ],
      "metadata": {
        "id": "w7uF2zKuok8a"
      }
    },
    {
      "cell_type": "code",
      "source": [
        "from scipy.optimize import fsolve\n",
        "f = lambda x: x**2-4\n",
        "fsolve(f,[1,10])"
      ],
      "metadata": {
        "colab": {
          "base_uri": "https://localhost:8080/"
        },
        "id": "7ufP6sdVoXT6",
        "outputId": "fe32a05c-36a3-4d1e-e257-6657f8e2ba4d"
      },
      "execution_count": null,
      "outputs": [
        {
          "output_type": "execute_result",
          "data": {
            "text/plain": [
              "array([-2.,  2.])"
            ]
          },
          "metadata": {},
          "execution_count": 2
        }
      ]
    },
    {
      "cell_type": "code",
      "source": [
        "from scipy.optimize import fsolve\n",
        "f = lambda x: x**3 - 8\n",
        "fsolve(f,[1,10])"
      ],
      "metadata": {
        "colab": {
          "base_uri": "https://localhost:8080/"
        },
        "id": "cHvAfCtLowY7",
        "outputId": "d53230b2-faba-464e-c60e-69ab2f92489e"
      },
      "execution_count": null,
      "outputs": [
        {
          "output_type": "execute_result",
          "data": {
            "text/plain": [
              "array([2., 2.])"
            ]
          },
          "metadata": {},
          "execution_count": 7
        }
      ]
    },
    {
      "cell_type": "code",
      "source": [
        "from scipy.optimize import fsolve\n",
        "f = lambda x: x**5+3*x**2-x-100\n",
        "fsolve(f, [-100, 100])"
      ],
      "metadata": {
        "colab": {
          "base_uri": "https://localhost:8080/"
        },
        "id": "zb4XuxtmpJH2",
        "outputId": "3750c5af-95d8-4573-aff2-797419c98676"
      },
      "execution_count": null,
      "outputs": [
        {
          "output_type": "execute_result",
          "data": {
            "text/plain": [
              "array([2.42992783, 2.42992783])"
            ]
          },
          "metadata": {},
          "execution_count": 18
        }
      ]
    }
  ]
}